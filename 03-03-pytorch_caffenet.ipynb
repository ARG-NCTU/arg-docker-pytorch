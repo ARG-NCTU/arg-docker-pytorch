{
 "cells": [
  {
   "cell_type": "code",
   "execution_count": 1,
   "metadata": {},
   "outputs": [],
   "source": [
    "import torch\n",
    "from torch import nn\n",
    "from torch.utils.data import Dataset, DataLoader\n",
    "import torchvision\n",
    "from torchvision import transforms, utils, datasets\n",
    "import matplotlib.pyplot as plt\n",
    "import os\n",
    "import cv2\n",
    "import numpy as np\n",
    "from skimage import io\n",
    "from PIL import Image\n",
    "import csv"
   ]
  },
  {
   "cell_type": "code",
   "execution_count": 41,
   "metadata": {},
   "outputs": [],
   "source": [
    "EPOCH = 30                # train the training data n times, to save time, we just train 1 epoch\n",
    "BATCH_SIZE = 12\n",
    "INPUT_SIZE = 227         # img input size\n",
    "LR = 0.001               # learning rate\n",
    "DOWNLOAD_MNIST = False   # set to True if haven't download the data\n",
    "TEST = False"
   ]
  },
  {
   "cell_type": "code",
   "execution_count": 42,
   "metadata": {},
   "outputs": [],
   "source": [
    "class GroceryDataset(Dataset):\n",
    "    data_transform = transforms.Compose([\n",
    "        transforms.Resize(INPUT_SIZE),\n",
    "        #transforms.RandomHorizontalFlip(),\n",
    "        transforms.ToTensor(),\n",
    "        transforms.Normalize(mean=[0.485, 0.456, 0.406],\n",
    "                            std=[0.229, 0.224, 0.225])\n",
    "    ])\n",
    "    \"\"\"Frocery dataset.\"\"\"    \n",
    "    def __init__(self, mode = 'train', file = 0, \\\n",
    "                 transform = data_transform):\n",
    "        self.fpath = '/hostname/freiburg_groceries_dataset/'\n",
    "        if mode == 'train':\n",
    "            file_path = self.fpath + 'splits/train{}.txt'.format(file)\n",
    "            print('Training file: ', file_path)\n",
    "        elif mode == 'test':\n",
    "            file_path = self.fpath + 'splits/test{}.txt'.format(file)\n",
    "            print('Testing file: ', file_path)\n",
    "            \n",
    "        # Get class id as same as which pytorch does\n",
    "        class_path = os.path.join(self.fpath + 'images/')        \n",
    "        classes = [d for d in os.listdir(class_path) if os.path.isdir(os.path.join(class_path, d))]\n",
    "        classes.sort()\n",
    "        self.cls = {classes[i]: i for i in range(len(classes))}\n",
    "        print(self.cls)\n",
    "        with open(file_path) as f:\n",
    "            self.flines = f.readlines()\n",
    "            \n",
    "        self.length = len(self.flines)\n",
    "        self.transform = transform\n",
    "\n",
    "    def __len__(self):\n",
    "        return self.length\n",
    "\n",
    "    def __getitem__(self, idx):\n",
    "        fsplit = self.flines[idx].split(' ')\n",
    "        #print fsplit[1], fsplit[2]\n",
    "        label = torch.tensor(int((self.cls[fsplit[0].split('/')[0]])))\n",
    "        #print('label: ', label)\n",
    "        #label = fsplit[1]\n",
    "        image_path = self.fpath + 'images/' + fsplit[0]\n",
    "        img = self.transform(Image.open(image_path))\n",
    "        #item = {'image': img, 'landmarks': label}\n",
    "        return img, label"
   ]
  },
  {
   "cell_type": "code",
   "execution_count": 43,
   "metadata": {},
   "outputs": [],
   "source": [
    "class CaffeNet(nn.Module):\n",
    "    def __init__(self):\n",
    "        super(CaffeNet, self).__init__()\n",
    "        '''self.pool2x2 = nn.MaxPool2d(2, 2)\n",
    "        self.conv1 = nn.Conv2d(1, 16, 5, 1, 2)\n",
    "        self.conv2 = nn.Conv2d(1, 16, 5, 1, 2)\n",
    "        self.fc1 = nn.Linear(16*5*5, 120)'''\n",
    "        self.conv1 = nn.Sequential(\n",
    "            nn.Conv2d(3, 96, 11, 4, 0), #in, out, kernel, stride, padding\n",
    "            nn.ReLU(),\n",
    "            nn.MaxPool2d((3, 3), 2), #kernel size, stride\n",
    "        )\n",
    "        self.conv2 = nn.Sequential(\n",
    "            nn.Conv2d(96, 256, 5, 1, 2), #in, out, kernel, stride, padding\n",
    "            nn.ReLU(),\n",
    "            nn.MaxPool2d(3, 2), #kernel size, stride\n",
    "        )\n",
    "        self.conv3 = nn.Sequential(\n",
    "            nn.Conv2d(256, 384, 3, 1, 1), #in, out, kernel, stride, padding\n",
    "            nn.ReLU(),\n",
    "        )\n",
    "        self.conv4 = nn.Sequential(\n",
    "            nn.Conv2d(384, 384, 3, 1, 1), #in, out, kernel, stride, padding\n",
    "            nn.ReLU(),\n",
    "        )\n",
    "        self.conv5 = nn.Sequential(\n",
    "            nn.Conv2d(384, 256, 3, 1, 1), #in, out, kernel, stride, padding\n",
    "            nn.ReLU(),\n",
    "            nn.MaxPool2d(3, 2), #kernel size, stride\n",
    "        )\n",
    "        self.fc6 = nn.Sequential(\n",
    "            nn.Linear(256 * 6 * 6, 4096),\n",
    "            nn.ReLU(),\n",
    "            nn.Dropout2d(0.5)\n",
    "        )\n",
    "        self.fc7 = nn.Sequential(\n",
    "            nn.Linear(4096, 4096),\n",
    "            nn.ReLU(),\n",
    "            nn.Dropout2d(0.5)\n",
    "        )\n",
    "        self.out = nn.Linear(4096, 25)\n",
    "    def forward(self, x):\n",
    "        x = self.conv1(x)\n",
    "        x = self.conv2(x)\n",
    "        x = self.conv3(x)\n",
    "        x = self.conv4(x)\n",
    "        x = self.conv5(x)\n",
    "        x = x.view(-1, 256*6*6) #flatten data\n",
    "        x = self.fc6(x)\n",
    "        x = self.fc7(x)\n",
    "        output = self.out(x)\n",
    "        return output"
   ]
  },
  {
   "cell_type": "code",
   "execution_count": 44,
   "metadata": {},
   "outputs": [],
   "source": [
    "def load_mnist_data(bt = BATCH_SIZE, fpath = '/home/arg_ws3/mnist'):\n",
    "    data_transform = transforms.Compose([\n",
    "            transforms.Resize(INPUT_SIZE),\n",
    "            #transforms.RandomHorizontalFlip(),\n",
    "            transforms.ToTensor(),\n",
    "            transforms.Normalize(mean=[0.485, 0.456, 0.406],\n",
    "                                 std=[0.229, 0.224, 0.225])\n",
    "    ])\n",
    "    train_data = torchvision.datasets.MNIST(\n",
    "        root = fpath,\n",
    "        train = True, # this is training data\n",
    "        transform = data_transform\n",
    "    )\n",
    "    train_loader = torch.utils.data.DataLoader(dataset = train_data, \\\n",
    "                                               batch_size = bt, \\\n",
    "                                               shuffle = True)\n",
    "    return train_loader"
   ]
  },
  {
   "cell_type": "code",
   "execution_count": 45,
   "metadata": {},
   "outputs": [],
   "source": [
    "def load_grocery_data(bt = BATCH_SIZE, mode = 'train', \\\n",
    "                      fpath = '/hostname/freiburg_groceries_dataset/images'):\n",
    "    data_transform = transforms.Compose([\n",
    "            transforms.Resize(INPUT_SIZE),\n",
    "            #transforms.RandomHorizontalFlip(),\n",
    "            transforms.ToTensor(),\n",
    "            transforms.Normalize(mean=[0.485, 0.456, 0.406],\n",
    "                                 std=[0.229, 0.224, 0.225])\n",
    "    ])\n",
    "    train_data = datasets.ImageFolder(root = fpath, \\\n",
    "                                           transform = data_transform)\n",
    "    train_data = GroceryDataset(mode = mode)\n",
    "    train_loader = torch.utils.data.DataLoader(dataset = train_data, \\\n",
    "                                                 batch_size = bt, \\\n",
    "                                                 shuffle = True)\n",
    "    return train_loader"
   ]
  },
  {
   "cell_type": "code",
   "execution_count": 46,
   "metadata": {},
   "outputs": [],
   "source": [
    "def load_test_data(bt = 1, dataset = 'grocery'):\n",
    "    if dataset == 'grocery':\n",
    "        test_loader = load_grocery_data(bt = bt, mode = 'test')\n",
    "    elif dataset == 'mnist':\n",
    "        test_loader = load_mnist_data(bt = bt)\n",
    "    data_iter = iter(test_loader)\n",
    "    return data_iter"
   ]
  },
  {
   "cell_type": "code",
   "execution_count": 47,
   "metadata": {},
   "outputs": [],
   "source": [
    "def vis_img(data):\n",
    "    img = data[0][0].cpu().numpy()\n",
    "    img = np.transpose(img, (1, 2, 0))\n",
    "    print (img.shape)\n",
    "    img = cv2.resize(img, (INPUT_SIZE, INPUT_SIZE)) \n",
    "    print (img.shape)\n",
    "    plt.imshow(img, cmap='gray')\n",
    "    img = np.expand_dims(img, axis=0)\n",
    "    img = np.expand_dims(img, axis=0)\n",
    "    img = torch.from_numpy(img).cuda()"
   ]
  },
  {
   "cell_type": "code",
   "execution_count": 48,
   "metadata": {},
   "outputs": [],
   "source": [
    "def test_confution_matrix(weight_file = '29'):\n",
    "    weight_path = '/hostname/freiburg_groceries_dataset/pytorch_model/net_{}.pth'.format(weight_file)\n",
    "    data_iter = load_test_data(dataset = 'grocery')\n",
    "    print('Data size: ', len(data_iter))\n",
    "    #Define model\n",
    "    print('Load training model')\n",
    "    caffenet = torch.load(weight_path).cuda()\n",
    "    count = 0\n",
    "    test_label_list = []\n",
    "    predict_list = []\n",
    "    label_list = []\n",
    "    \n",
    "    # Get class id as same as which pytorch does\n",
    "    dir = '/hostname/freiburg_groceries_dataset/images'\n",
    "    classes = [d for d in os.listdir(dir) if os.path.isdir(os.path.join(dir, d))]\n",
    "    classes.sort()\n",
    "    cls = {classes[i]: i for i in range(len(classes))}\n",
    "    value = list(cls.values())\n",
    "    key = list(cls.keys())\n",
    "    for i in range(len(classes)):\n",
    "        label_list.append([key[value.index(i)], i])\n",
    "    \n",
    "    for i in range(len(data_iter)):\n",
    "        data = next(data_iter)\n",
    "        outputs = caffenet(data[0].cuda())\n",
    "        predict = int(torch.max(outputs, 1)[1].cpu().numpy())\n",
    "        label = int(data[1].cpu().numpy())\n",
    "        predict_list.append(predict)\n",
    "        test_label_list.append(label)\n",
    "        count += 1\n",
    "    print(count)\n",
    "    \n",
    "    # Calculate the confusion matrix\n",
    "    over_all_correct = 0\n",
    "    with open('/hostname/freiburg_groceries_dataset/confusion_matrix.csv', 'w+') as csvfile:\n",
    "        writer = csv.writer(csvfile)\n",
    "        for row in range(26):\n",
    "            data = []\n",
    "            each_pred = np.zeros(len(data_iter), np.int16)\n",
    "            target_label = row - 1\n",
    "            image_counter = 0\n",
    "            if row == 0:\n",
    "                data.append('')\n",
    "            else:\n",
    "                tmp = str(label_list[target_label][1])+\":\"+label_list[target_label][0]\n",
    "                data.append(tmp)\n",
    "                \n",
    "                # Calculate accuracy\n",
    "                for i in range(len(test_label_list)):\n",
    "                    if test_label_list[i] == target_label:\n",
    "                        image_counter += 1\n",
    "                        each_pred[predict_list[i]] += 1\n",
    "                        if predict_list[i] == target_label:\n",
    "                            over_all_correct += 1 \n",
    "            for col in range(25):\n",
    "                if row == 0:\n",
    "                    data.append(label_list[col][0])    \n",
    "                else:\n",
    "                    data.append(float(each_pred[col])/image_counter)\n",
    "            writer.writerow(data)\n",
    "\n",
    "        writer.writerow(['overall accuracy:', float(over_all_correct)/len(data_iter)])\n",
    "        print('Finsh')"
   ]
  },
  {
   "cell_type": "code",
   "execution_count": 65,
   "metadata": {},
   "outputs": [],
   "source": [
    "def test_caffenet(weight_file = '29'):\n",
    "    weight_path = '/hostname/freiburg_groceries_dataset/pytorch_model/net_{}.pth'.format(weight_file)\n",
    "    data_iter = load_test_data(dataset = 'grocery')\n",
    "    #Define model\n",
    "    print('Load training model')\n",
    "    caffenet = torch.load(weight_path).cuda()\n",
    "    data = next(data_iter)\n",
    "    outputs = caffenet(data[0].cuda())\n",
    "    pred_y = torch.max(outputs, 1)[1].cpu().numpy()\n",
    "    print ('Prediction: ', pred_y)\n",
    "    print ('Ground truth: ', data[1].cpu().numpy())\n",
    "    vis_img(data)"
   ]
  },
  {
   "cell_type": "code",
   "execution_count": 66,
   "metadata": {},
   "outputs": [],
   "source": [
    "def train_caffenet():\n",
    "    #Define training data\n",
    "    train_loader = load_grocery_data()\n",
    "    #Define model, optimizer and loss function\n",
    "    print('Load training model')\n",
    "    caffenet = CaffeNet().cuda()\n",
    "    print (caffenet)\n",
    "    #optimizer = torch.optim.Adam(caffenet.parameters(), lr = LR)   # optimize all cnn parameters\n",
    "    optimizer = torch.optim.SGD(caffenet.parameters(), lr = LR, momentum=0.9, weight_decay=0.0005)\n",
    "    loss_func = nn.CrossEntropyLoss().cuda()\n",
    "    \n",
    "    running_loss = 0.\n",
    "    cnt = 0\n",
    "    for epoch in range(EPOCH):\n",
    "        print('========== Epoch: ', epoch, ' ==========')\n",
    "        for step, data in enumerate(train_loader):\n",
    "            cnt = cnt + 1\n",
    "            imgs = data[0].cuda()\n",
    "            labels = data[1].cuda()\n",
    "            optimizer.zero_grad()\n",
    "            outputs = caffenet(imgs)\n",
    "            loss = loss_func(outputs, labels)\n",
    "            loss.backward()\n",
    "            optimizer.step()\n",
    "            if cnt % 50 == 0:\n",
    "                print ('loss: ', loss.item())\n",
    "        model_name = '/hostname/freiburg_groceries_dataset/pytorch_model/net_{}.pth'.format(epoch)\n",
    "        torch.save(caffenet, model_name)\n",
    "        print('----- Save model: {} -----'.format(model_name))\n",
    "    print('Finish Training')"
   ]
  },
  {
   "cell_type": "code",
   "execution_count": 67,
   "metadata": {},
   "outputs": [
    {
     "name": "stdout",
     "output_type": "stream",
     "text": [
      "Training file:  /hostname/freiburg_groceries_dataset/splits/train0.txt\n",
      "{'BEANS': 0, 'CAKE': 1, 'CANDY': 2, 'CEREAL': 3, 'CHIPS': 4, 'CHOCOLATE': 5, 'COFFEE': 6, 'CORN': 7, 'FISH': 8, 'FLOUR': 9, 'HONEY': 10, 'JAM': 11, 'JUICE': 12, 'MILK': 13, 'NUTS': 14, 'OIL': 15, 'PASTA': 16, 'RICE': 17, 'SODA': 18, 'SPICES': 19, 'SUGAR': 20, 'TEA': 21, 'TOMATO_SAUCE': 22, 'VINEGAR': 23, 'WATER': 24}\n",
      "Load training model\n",
      "CaffeNet(\n",
      "  (conv1): Sequential(\n",
      "    (0): Conv2d(3, 96, kernel_size=(11, 11), stride=(4, 4))\n",
      "    (1): ReLU()\n",
      "    (2): MaxPool2d(kernel_size=(3, 3), stride=2, padding=0, dilation=1, ceil_mode=False)\n",
      "  )\n",
      "  (conv2): Sequential(\n",
      "    (0): Conv2d(96, 256, kernel_size=(5, 5), stride=(1, 1), padding=(2, 2))\n",
      "    (1): ReLU()\n",
      "    (2): MaxPool2d(kernel_size=3, stride=2, padding=0, dilation=1, ceil_mode=False)\n",
      "  )\n",
      "  (conv3): Sequential(\n",
      "    (0): Conv2d(256, 384, kernel_size=(3, 3), stride=(1, 1), padding=(1, 1))\n",
      "    (1): ReLU()\n",
      "  )\n",
      "  (conv4): Sequential(\n",
      "    (0): Conv2d(384, 384, kernel_size=(3, 3), stride=(1, 1), padding=(1, 1))\n",
      "    (1): ReLU()\n",
      "  )\n",
      "  (conv5): Sequential(\n",
      "    (0): Conv2d(384, 256, kernel_size=(3, 3), stride=(1, 1), padding=(1, 1))\n",
      "    (1): ReLU()\n",
      "    (2): MaxPool2d(kernel_size=3, stride=2, padding=0, dilation=1, ceil_mode=False)\n",
      "  )\n",
      "  (fc6): Sequential(\n",
      "    (0): Linear(in_features=9216, out_features=4096, bias=True)\n",
      "    (1): ReLU()\n",
      "    (2): Dropout2d(p=0.5)\n",
      "  )\n",
      "  (fc7): Sequential(\n",
      "    (0): Linear(in_features=4096, out_features=4096, bias=True)\n",
      "    (1): ReLU()\n",
      "    (2): Dropout2d(p=0.5)\n",
      "  )\n",
      "  (out): Linear(in_features=4096, out_features=25, bias=True)\n",
      ")\n",
      "========== Epoch:  0  ==========\n",
      "loss:  3.2240562438964844\n"
     ]
    },
    {
     "ename": "KeyboardInterrupt",
     "evalue": "",
     "output_type": "error",
     "traceback": [
      "\u001b[0;31m---------------------------------------------------------------------------\u001b[0m",
      "\u001b[0;31mKeyboardInterrupt\u001b[0m                         Traceback (most recent call last)",
      "\u001b[0;32m<ipython-input-67-0be38a651ebf>\u001b[0m in \u001b[0;36m<module>\u001b[0;34m\u001b[0m\n\u001b[0;32m----> 1\u001b[0;31m \u001b[0mtrain_caffenet\u001b[0m\u001b[0;34m(\u001b[0m\u001b[0;34m)\u001b[0m\u001b[0;34m\u001b[0m\u001b[0m\n\u001b[0m",
      "\u001b[0;32m<ipython-input-66-95880323be79>\u001b[0m in \u001b[0;36mtrain_caffenet\u001b[0;34m()\u001b[0m\n\u001b[1;32m     14\u001b[0m     \u001b[0;32mfor\u001b[0m \u001b[0mepoch\u001b[0m \u001b[0;32min\u001b[0m \u001b[0mrange\u001b[0m\u001b[0;34m(\u001b[0m\u001b[0mEPOCH\u001b[0m\u001b[0;34m)\u001b[0m\u001b[0;34m:\u001b[0m\u001b[0;34m\u001b[0m\u001b[0m\n\u001b[1;32m     15\u001b[0m         \u001b[0mprint\u001b[0m\u001b[0;34m(\u001b[0m\u001b[0;34m'========== Epoch: '\u001b[0m\u001b[0;34m,\u001b[0m \u001b[0mepoch\u001b[0m\u001b[0;34m,\u001b[0m \u001b[0;34m' =========='\u001b[0m\u001b[0;34m)\u001b[0m\u001b[0;34m\u001b[0m\u001b[0m\n\u001b[0;32m---> 16\u001b[0;31m         \u001b[0;32mfor\u001b[0m \u001b[0mstep\u001b[0m\u001b[0;34m,\u001b[0m \u001b[0mdata\u001b[0m \u001b[0;32min\u001b[0m \u001b[0menumerate\u001b[0m\u001b[0;34m(\u001b[0m\u001b[0mtrain_loader\u001b[0m\u001b[0;34m)\u001b[0m\u001b[0;34m:\u001b[0m\u001b[0;34m\u001b[0m\u001b[0m\n\u001b[0m\u001b[1;32m     17\u001b[0m             \u001b[0mcnt\u001b[0m \u001b[0;34m=\u001b[0m \u001b[0mcnt\u001b[0m \u001b[0;34m+\u001b[0m \u001b[0;36m1\u001b[0m\u001b[0;34m\u001b[0m\u001b[0m\n\u001b[1;32m     18\u001b[0m             \u001b[0mimgs\u001b[0m \u001b[0;34m=\u001b[0m \u001b[0mdata\u001b[0m\u001b[0;34m[\u001b[0m\u001b[0;36m0\u001b[0m\u001b[0;34m]\u001b[0m\u001b[0;34m.\u001b[0m\u001b[0mcuda\u001b[0m\u001b[0;34m(\u001b[0m\u001b[0;34m)\u001b[0m\u001b[0;34m\u001b[0m\u001b[0m\n",
      "\u001b[0;32m/opt/conda/lib/python3.6/site-packages/torch/utils/data/dataloader.py\u001b[0m in \u001b[0;36m__next__\u001b[0;34m(self)\u001b[0m\n\u001b[1;32m    312\u001b[0m         \u001b[0;32mif\u001b[0m \u001b[0mself\u001b[0m\u001b[0;34m.\u001b[0m\u001b[0mnum_workers\u001b[0m \u001b[0;34m==\u001b[0m \u001b[0;36m0\u001b[0m\u001b[0;34m:\u001b[0m  \u001b[0;31m# same-process loading\u001b[0m\u001b[0;34m\u001b[0m\u001b[0m\n\u001b[1;32m    313\u001b[0m             \u001b[0mindices\u001b[0m \u001b[0;34m=\u001b[0m \u001b[0mnext\u001b[0m\u001b[0;34m(\u001b[0m\u001b[0mself\u001b[0m\u001b[0;34m.\u001b[0m\u001b[0msample_iter\u001b[0m\u001b[0;34m)\u001b[0m  \u001b[0;31m# may raise StopIteration\u001b[0m\u001b[0;34m\u001b[0m\u001b[0m\n\u001b[0;32m--> 314\u001b[0;31m             \u001b[0mbatch\u001b[0m \u001b[0;34m=\u001b[0m \u001b[0mself\u001b[0m\u001b[0;34m.\u001b[0m\u001b[0mcollate_fn\u001b[0m\u001b[0;34m(\u001b[0m\u001b[0;34m[\u001b[0m\u001b[0mself\u001b[0m\u001b[0;34m.\u001b[0m\u001b[0mdataset\u001b[0m\u001b[0;34m[\u001b[0m\u001b[0mi\u001b[0m\u001b[0;34m]\u001b[0m \u001b[0;32mfor\u001b[0m \u001b[0mi\u001b[0m \u001b[0;32min\u001b[0m \u001b[0mindices\u001b[0m\u001b[0;34m]\u001b[0m\u001b[0;34m)\u001b[0m\u001b[0;34m\u001b[0m\u001b[0m\n\u001b[0m\u001b[1;32m    315\u001b[0m             \u001b[0;32mif\u001b[0m \u001b[0mself\u001b[0m\u001b[0;34m.\u001b[0m\u001b[0mpin_memory\u001b[0m\u001b[0;34m:\u001b[0m\u001b[0;34m\u001b[0m\u001b[0m\n\u001b[1;32m    316\u001b[0m                 \u001b[0mbatch\u001b[0m \u001b[0;34m=\u001b[0m \u001b[0mpin_memory_batch\u001b[0m\u001b[0;34m(\u001b[0m\u001b[0mbatch\u001b[0m\u001b[0;34m)\u001b[0m\u001b[0;34m\u001b[0m\u001b[0m\n",
      "\u001b[0;32m/opt/conda/lib/python3.6/site-packages/torch/utils/data/dataloader.py\u001b[0m in \u001b[0;36m<listcomp>\u001b[0;34m(.0)\u001b[0m\n\u001b[1;32m    312\u001b[0m         \u001b[0;32mif\u001b[0m \u001b[0mself\u001b[0m\u001b[0;34m.\u001b[0m\u001b[0mnum_workers\u001b[0m \u001b[0;34m==\u001b[0m \u001b[0;36m0\u001b[0m\u001b[0;34m:\u001b[0m  \u001b[0;31m# same-process loading\u001b[0m\u001b[0;34m\u001b[0m\u001b[0m\n\u001b[1;32m    313\u001b[0m             \u001b[0mindices\u001b[0m \u001b[0;34m=\u001b[0m \u001b[0mnext\u001b[0m\u001b[0;34m(\u001b[0m\u001b[0mself\u001b[0m\u001b[0;34m.\u001b[0m\u001b[0msample_iter\u001b[0m\u001b[0;34m)\u001b[0m  \u001b[0;31m# may raise StopIteration\u001b[0m\u001b[0;34m\u001b[0m\u001b[0m\n\u001b[0;32m--> 314\u001b[0;31m             \u001b[0mbatch\u001b[0m \u001b[0;34m=\u001b[0m \u001b[0mself\u001b[0m\u001b[0;34m.\u001b[0m\u001b[0mcollate_fn\u001b[0m\u001b[0;34m(\u001b[0m\u001b[0;34m[\u001b[0m\u001b[0mself\u001b[0m\u001b[0;34m.\u001b[0m\u001b[0mdataset\u001b[0m\u001b[0;34m[\u001b[0m\u001b[0mi\u001b[0m\u001b[0;34m]\u001b[0m \u001b[0;32mfor\u001b[0m \u001b[0mi\u001b[0m \u001b[0;32min\u001b[0m \u001b[0mindices\u001b[0m\u001b[0;34m]\u001b[0m\u001b[0;34m)\u001b[0m\u001b[0;34m\u001b[0m\u001b[0m\n\u001b[0m\u001b[1;32m    315\u001b[0m             \u001b[0;32mif\u001b[0m \u001b[0mself\u001b[0m\u001b[0;34m.\u001b[0m\u001b[0mpin_memory\u001b[0m\u001b[0;34m:\u001b[0m\u001b[0;34m\u001b[0m\u001b[0m\n\u001b[1;32m    316\u001b[0m                 \u001b[0mbatch\u001b[0m \u001b[0;34m=\u001b[0m \u001b[0mpin_memory_batch\u001b[0m\u001b[0;34m(\u001b[0m\u001b[0mbatch\u001b[0m\u001b[0;34m)\u001b[0m\u001b[0;34m\u001b[0m\u001b[0m\n",
      "\u001b[0;32m<ipython-input-42-c864830eaba4>\u001b[0m in \u001b[0;36m__getitem__\u001b[0;34m(self, idx)\u001b[0m\n\u001b[1;32m     40\u001b[0m         \u001b[0;31m#label = fsplit[1]\u001b[0m\u001b[0;34m\u001b[0m\u001b[0;34m\u001b[0m\u001b[0m\n\u001b[1;32m     41\u001b[0m         \u001b[0mimage_path\u001b[0m \u001b[0;34m=\u001b[0m \u001b[0mself\u001b[0m\u001b[0;34m.\u001b[0m\u001b[0mfpath\u001b[0m \u001b[0;34m+\u001b[0m \u001b[0;34m'images/'\u001b[0m \u001b[0;34m+\u001b[0m \u001b[0mfsplit\u001b[0m\u001b[0;34m[\u001b[0m\u001b[0;36m0\u001b[0m\u001b[0;34m]\u001b[0m\u001b[0;34m\u001b[0m\u001b[0m\n\u001b[0;32m---> 42\u001b[0;31m         \u001b[0mimg\u001b[0m \u001b[0;34m=\u001b[0m \u001b[0mself\u001b[0m\u001b[0;34m.\u001b[0m\u001b[0mtransform\u001b[0m\u001b[0;34m(\u001b[0m\u001b[0mImage\u001b[0m\u001b[0;34m.\u001b[0m\u001b[0mopen\u001b[0m\u001b[0;34m(\u001b[0m\u001b[0mimage_path\u001b[0m\u001b[0;34m)\u001b[0m\u001b[0;34m)\u001b[0m\u001b[0;34m\u001b[0m\u001b[0m\n\u001b[0m\u001b[1;32m     43\u001b[0m         \u001b[0;31m#item = {'image': img, 'landmarks': label}\u001b[0m\u001b[0;34m\u001b[0m\u001b[0;34m\u001b[0m\u001b[0m\n\u001b[1;32m     44\u001b[0m         \u001b[0;32mreturn\u001b[0m \u001b[0mimg\u001b[0m\u001b[0;34m,\u001b[0m \u001b[0mlabel\u001b[0m\u001b[0;34m\u001b[0m\u001b[0m\n",
      "\u001b[0;32m/opt/conda/lib/python3.6/site-packages/torchvision-0.2.1-py3.6.egg/torchvision/transforms/transforms.py\u001b[0m in \u001b[0;36m__call__\u001b[0;34m(self, img)\u001b[0m\n\u001b[1;32m     47\u001b[0m     \u001b[0;32mdef\u001b[0m \u001b[0m__call__\u001b[0m\u001b[0;34m(\u001b[0m\u001b[0mself\u001b[0m\u001b[0;34m,\u001b[0m \u001b[0mimg\u001b[0m\u001b[0;34m)\u001b[0m\u001b[0;34m:\u001b[0m\u001b[0;34m\u001b[0m\u001b[0m\n\u001b[1;32m     48\u001b[0m         \u001b[0;32mfor\u001b[0m \u001b[0mt\u001b[0m \u001b[0;32min\u001b[0m \u001b[0mself\u001b[0m\u001b[0;34m.\u001b[0m\u001b[0mtransforms\u001b[0m\u001b[0;34m:\u001b[0m\u001b[0;34m\u001b[0m\u001b[0m\n\u001b[0;32m---> 49\u001b[0;31m             \u001b[0mimg\u001b[0m \u001b[0;34m=\u001b[0m \u001b[0mt\u001b[0m\u001b[0;34m(\u001b[0m\u001b[0mimg\u001b[0m\u001b[0;34m)\u001b[0m\u001b[0;34m\u001b[0m\u001b[0m\n\u001b[0m\u001b[1;32m     50\u001b[0m         \u001b[0;32mreturn\u001b[0m \u001b[0mimg\u001b[0m\u001b[0;34m\u001b[0m\u001b[0m\n\u001b[1;32m     51\u001b[0m \u001b[0;34m\u001b[0m\u001b[0m\n",
      "\u001b[0;32m/opt/conda/lib/python3.6/site-packages/torchvision-0.2.1-py3.6.egg/torchvision/transforms/transforms.py\u001b[0m in \u001b[0;36m__call__\u001b[0;34m(self, img)\u001b[0m\n\u001b[1;32m    173\u001b[0m             \u001b[0mPIL\u001b[0m \u001b[0mImage\u001b[0m\u001b[0;34m:\u001b[0m \u001b[0mRescaled\u001b[0m \u001b[0mimage\u001b[0m\u001b[0;34m.\u001b[0m\u001b[0;34m\u001b[0m\u001b[0m\n\u001b[1;32m    174\u001b[0m         \"\"\"\n\u001b[0;32m--> 175\u001b[0;31m         \u001b[0;32mreturn\u001b[0m \u001b[0mF\u001b[0m\u001b[0;34m.\u001b[0m\u001b[0mresize\u001b[0m\u001b[0;34m(\u001b[0m\u001b[0mimg\u001b[0m\u001b[0;34m,\u001b[0m \u001b[0mself\u001b[0m\u001b[0;34m.\u001b[0m\u001b[0msize\u001b[0m\u001b[0;34m,\u001b[0m \u001b[0mself\u001b[0m\u001b[0;34m.\u001b[0m\u001b[0minterpolation\u001b[0m\u001b[0;34m)\u001b[0m\u001b[0;34m\u001b[0m\u001b[0m\n\u001b[0m\u001b[1;32m    176\u001b[0m \u001b[0;34m\u001b[0m\u001b[0m\n\u001b[1;32m    177\u001b[0m     \u001b[0;32mdef\u001b[0m \u001b[0m__repr__\u001b[0m\u001b[0;34m(\u001b[0m\u001b[0mself\u001b[0m\u001b[0;34m)\u001b[0m\u001b[0;34m:\u001b[0m\u001b[0;34m\u001b[0m\u001b[0m\n",
      "\u001b[0;32m/opt/conda/lib/python3.6/site-packages/torchvision-0.2.1-py3.6.egg/torchvision/transforms/functional.py\u001b[0m in \u001b[0;36mresize\u001b[0;34m(img, size, interpolation)\u001b[0m\n\u001b[1;32m    202\u001b[0m             \u001b[0moh\u001b[0m \u001b[0;34m=\u001b[0m \u001b[0msize\u001b[0m\u001b[0;34m\u001b[0m\u001b[0m\n\u001b[1;32m    203\u001b[0m             \u001b[0mow\u001b[0m \u001b[0;34m=\u001b[0m \u001b[0mint\u001b[0m\u001b[0;34m(\u001b[0m\u001b[0msize\u001b[0m \u001b[0;34m*\u001b[0m \u001b[0mw\u001b[0m \u001b[0;34m/\u001b[0m \u001b[0mh\u001b[0m\u001b[0;34m)\u001b[0m\u001b[0;34m\u001b[0m\u001b[0m\n\u001b[0;32m--> 204\u001b[0;31m             \u001b[0;32mreturn\u001b[0m \u001b[0mimg\u001b[0m\u001b[0;34m.\u001b[0m\u001b[0mresize\u001b[0m\u001b[0;34m(\u001b[0m\u001b[0;34m(\u001b[0m\u001b[0mow\u001b[0m\u001b[0;34m,\u001b[0m \u001b[0moh\u001b[0m\u001b[0;34m)\u001b[0m\u001b[0;34m,\u001b[0m \u001b[0minterpolation\u001b[0m\u001b[0;34m)\u001b[0m\u001b[0;34m\u001b[0m\u001b[0m\n\u001b[0m\u001b[1;32m    205\u001b[0m     \u001b[0;32melse\u001b[0m\u001b[0;34m:\u001b[0m\u001b[0;34m\u001b[0m\u001b[0m\n\u001b[1;32m    206\u001b[0m         \u001b[0;32mreturn\u001b[0m \u001b[0mimg\u001b[0m\u001b[0;34m.\u001b[0m\u001b[0mresize\u001b[0m\u001b[0;34m(\u001b[0m\u001b[0msize\u001b[0m\u001b[0;34m[\u001b[0m\u001b[0;34m:\u001b[0m\u001b[0;34m:\u001b[0m\u001b[0;34m-\u001b[0m\u001b[0;36m1\u001b[0m\u001b[0;34m]\u001b[0m\u001b[0;34m,\u001b[0m \u001b[0minterpolation\u001b[0m\u001b[0;34m)\u001b[0m\u001b[0;34m\u001b[0m\u001b[0m\n",
      "\u001b[0;32m/opt/conda/lib/python3.6/site-packages/PIL/Image.py\u001b[0m in \u001b[0;36mresize\u001b[0;34m(self, size, resample, box)\u001b[0m\n\u001b[1;32m   1782\u001b[0m         \u001b[0mself\u001b[0m\u001b[0;34m.\u001b[0m\u001b[0mload\u001b[0m\u001b[0;34m(\u001b[0m\u001b[0;34m)\u001b[0m\u001b[0;34m\u001b[0m\u001b[0m\n\u001b[1;32m   1783\u001b[0m \u001b[0;34m\u001b[0m\u001b[0m\n\u001b[0;32m-> 1784\u001b[0;31m         \u001b[0;32mreturn\u001b[0m \u001b[0mself\u001b[0m\u001b[0;34m.\u001b[0m\u001b[0m_new\u001b[0m\u001b[0;34m(\u001b[0m\u001b[0mself\u001b[0m\u001b[0;34m.\u001b[0m\u001b[0mim\u001b[0m\u001b[0;34m.\u001b[0m\u001b[0mresize\u001b[0m\u001b[0;34m(\u001b[0m\u001b[0msize\u001b[0m\u001b[0;34m,\u001b[0m \u001b[0mresample\u001b[0m\u001b[0;34m,\u001b[0m \u001b[0mbox\u001b[0m\u001b[0;34m)\u001b[0m\u001b[0;34m)\u001b[0m\u001b[0;34m\u001b[0m\u001b[0m\n\u001b[0m\u001b[1;32m   1785\u001b[0m \u001b[0;34m\u001b[0m\u001b[0m\n\u001b[1;32m   1786\u001b[0m     def rotate(self, angle, resample=NEAREST, expand=0, center=None,\n",
      "\u001b[0;31mKeyboardInterrupt\u001b[0m: "
     ]
    }
   ],
   "source": [
    "train_caffenet()"
   ]
  },
  {
   "cell_type": "code",
   "execution_count": 69,
   "metadata": {
    "scrolled": true
   },
   "outputs": [
    {
     "name": "stderr",
     "output_type": "stream",
     "text": [
      "Clipping input data to the valid range for imshow with RGB data ([0..1] for floats or [0..255] for integers).\n"
     ]
    },
    {
     "name": "stdout",
     "output_type": "stream",
     "text": [
      "Testing file:  /hostname/freiburg_groceries_dataset/splits/test0.txt\n",
      "{'BEANS': 0, 'CAKE': 1, 'CANDY': 2, 'CEREAL': 3, 'CHIPS': 4, 'CHOCOLATE': 5, 'COFFEE': 6, 'CORN': 7, 'FISH': 8, 'FLOUR': 9, 'HONEY': 10, 'JAM': 11, 'JUICE': 12, 'MILK': 13, 'NUTS': 14, 'OIL': 15, 'PASTA': 16, 'RICE': 17, 'SODA': 18, 'SPICES': 19, 'SUGAR': 20, 'TEA': 21, 'TOMATO_SAUCE': 22, 'VINEGAR': 23, 'WATER': 24}\n",
      "Load training model\n",
      "Prediction:  [18]\n",
      "Ground truth:  [18]\n",
      "(227, 227, 3)\n",
      "(227, 227, 3)\n"
     ]
    },
    {
     "data": {
      "image/png": "[encoded data removed]",
      "text/plain": [
       "<Figure size 432x288 with 1 Axes>"
      ]
     },
     "metadata": {
      "needs_background": "light"
     },
     "output_type": "display_data"
    }
   ],
   "source": [
    "test_caffenet(29)"
   ]
  },
  {
   "cell_type": "code",
   "execution_count": 23,
   "metadata": {},
   "outputs": [
    {
     "name": "stdout",
     "output_type": "stream",
     "text": [
      "Testing file:  /hostname/freiburg_groceries_dataset/splits/test0.txt\n",
      "{'BEANS': 0, 'CAKE': 1, 'CANDY': 2, 'CEREAL': 3, 'CHIPS': 4, 'CHOCOLATE': 5, 'COFFEE': 6, 'CORN': 7, 'FISH': 8, 'FLOUR': 9, 'HONEY': 10, 'JAM': 11, 'JUICE': 12, 'MILK': 13, 'NUTS': 14, 'OIL': 15, 'PASTA': 16, 'RICE': 17, 'SODA': 18, 'SPICES': 19, 'SUGAR': 20, 'TEA': 21, 'TOMATO_SAUCE': 22, 'VINEGAR': 23, 'WATER': 24}\n",
      "Data size:  1018\n",
      "Load training model\n",
      "1018\n",
      "Finsh\n"
     ]
    }
   ],
   "source": [
    "test_confution_matrix()"
   ]
  }
 ],
 "metadata": {
  "kernelspec": {
   "display_name": "Python 3",
   "language": "python",
   "name": "python3"
  },
  "language_info": {
   "codemirror_mode": {
    "name": "ipython",
    "version": 3
   },
   "file_extension": ".py",
   "mimetype": "text/x-python",
   "name": "python",
   "nbconvert_exporter": "python",
   "pygments_lexer": "ipython3",
   "version": "3.6.5"
  }
 },
 "nbformat": 4,
 "nbformat_minor": 2
}

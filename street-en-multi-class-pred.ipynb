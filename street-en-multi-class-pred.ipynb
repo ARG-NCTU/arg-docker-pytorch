{
 "cells": [
  {
   "cell_type": "markdown",
   "metadata": {},
   "source": [
    "# Street_En Multi-class Prediction"
   ]
  },
  {
   "cell_type": "markdown",
   "metadata": {},
   "source": [
    "# 1. Get Ready for street_en test dataset"
   ]
  },
  {
   "cell_type": "markdown",
   "metadata": {},
   "source": [
    "## 1-1 Setting model and test data"
   ]
  },
  {
   "cell_type": "code",
   "execution_count": 51,
   "metadata": {
    "collapsed": true
   },
   "outputs": [],
   "source": [
    "model_folder = \"DICTNET-STREET-EN-HARVEST/\" #in models folder\n",
    "model_name = \"_iter_10000.caffemodel\"\n",
    "test_folder = \"STREET-EN-RATIO-100/\" #in testsets folder\n",
    "model_type = 'vgg' #vgg or bvlc"
   ]
  },
  {
   "cell_type": "markdown",
   "metadata": {},
   "source": [
    "## 1-2. Define Lexicon class"
   ]
  },
  {
   "cell_type": "code",
   "execution_count": 52,
   "metadata": {
    "collapsed": false
   },
   "outputs": [],
   "source": [
    "class Lexicon:\n",
    "    def __init__(self,imageName,lex,num):\n",
    "        self.imageName = imageName\n",
    "        self.lex = lex \n",
    "        self.gt = lex[num]       \n",
    "        \n",
    "    def set_image_number(self,number):\n",
    "        self.image_number = number\n",
    "    \n",
    "    def set_image_path(self,path):\n",
    "        self.image_path = path"
   ]
  },
  {
   "cell_type": "code",
   "execution_count": 53,
   "metadata": {
    "collapsed": false
   },
   "outputs": [
    {
     "name": "stdout",
     "output_type": "stream",
     "text": [
      "['frazzoli' 'tedrake' 'asada' 'breazeal' 'dubowsky' 'herr' 'hoburg' 'hogan'\n",
      " 'iagnemma' 'kaelbling' 'lozano' 'kim' 'reif' 'waltz' 'peraire' 'chandra'\n",
      " 'kasan' 'micali' 'chen' 'hosoi' 'rus' 'how' 'roy' 'shah' 'williams'\n",
      " 'leonard' 'brooks' 'karaman']\n"
     ]
    }
   ],
   "source": [
    "import numpy as np\n",
    "\n",
    "lex_file = './street_en_labels.txt'\n",
    "lex = np.loadtxt(lex_file, str, delimiter='\\t')\n",
    "\n",
    "print lex"
   ]
  },
  {
   "cell_type": "markdown",
   "metadata": {},
   "source": [
    "## 1-3. Ready testing dataset"
   ]
  },
  {
   "cell_type": "markdown",
   "metadata": {},
   "source": [
    "* Read image data"
   ]
  },
  {
   "cell_type": "code",
   "execution_count": 54,
   "metadata": {
    "collapsed": false
   },
   "outputs": [
    {
     "name": "stdout",
     "output_type": "stream",
     "text": [
      "5127 images read\n"
     ]
    }
   ],
   "source": [
    "import os\n",
    "\n",
    "path = 'testsets/' + test_folder + '/'\n",
    "test_path = np.loadtxt(path + 'test.txt', str, delimiter=' ')\n",
    "\n",
    "if os.path.exists(path):\n",
    "    dataList = []\n",
    "    image_number = 0\n",
    "\n",
    "    for itera,class_num in test_path:\n",
    "        \n",
    "        imageName = itera\n",
    "        imageInfo = Lexicon(imageName,lex,int(class_num))\n",
    "        imageInfo.set_image_number(image_number)\n",
    "        image_number += 1\n",
    "        img_path = path + itera\n",
    "        imageInfo.set_image_path(img_path)\n",
    "        \n",
    "        dataList.append(imageInfo)\n",
    "\n",
    "    print len(dataList),\"images read\"\n",
    "#     for itera in dataList:\n",
    "#         print itera.imageName\n",
    "\n",
    "else:\n",
    "    print 'data not found'"
   ]
  },
  {
   "cell_type": "markdown",
   "metadata": {},
   "source": [
    "# 2. Testing Model\n",
    "\n",
    "## 2-1. Get Ready for Models"
   ]
  },
  {
   "cell_type": "markdown",
   "metadata": {},
   "source": [
    "* First, set up Python, `numpy`, and `matplotlib`."
   ]
  },
  {
   "cell_type": "code",
   "execution_count": 55,
   "metadata": {
    "collapsed": false
   },
   "outputs": [],
   "source": [
    "# set up Python environment: numpy for numerical routines, and matplotlib for plotting\n",
    "import numpy as np\n",
    "import matplotlib.pyplot as plt\n",
    "import time\n",
    "# display plots in this notebook\n",
    "%matplotlib inline\n",
    "\n",
    "# set display defaults\n",
    "plt.rcParams['figure.figsize'] = (10, 10)        # large images\n",
    "plt.rcParams['image.interpolation'] = 'nearest'  # don't interpolate: show square pixels\n",
    "plt.rcParams['image.cmap'] = 'gray'  # use grayscale output rather than a (potentially misleading) color heatmap"
   ]
  },
  {
   "cell_type": "markdown",
   "metadata": {},
   "source": [
    "* Load `caffe`."
   ]
  },
  {
   "cell_type": "code",
   "execution_count": 56,
   "metadata": {
    "collapsed": false
   },
   "outputs": [],
   "source": [
    "# The caffe module needs to be on the Python path;\n",
    "#  we'll add it here explicitly.\n",
    "import sys\n",
    "caffe_root = '../../caffe/'  # this file should be run from {caffe_root}/examples (otherwise change this line)\n",
    "sys.path.insert(0, caffe_root + 'python')\n",
    "\n",
    "import caffe\n",
    "# If you get \"No module named _caffe\", either you have not built pycaffe or you have the wrong path."
   ]
  },
  {
   "cell_type": "markdown",
   "metadata": {},
   "source": [
    "* Load net and set up input preprocessing\n",
    "\n",
    "* Set Caffe to CPU or GPU mode and load the net from disk."
   ]
  },
  {
   "cell_type": "code",
   "execution_count": 57,
   "metadata": {
    "collapsed": false
   },
   "outputs": [],
   "source": [
    "caffe.set_device(0)  # if we have multiple GPUs, pick the first one\n",
    "caffe.set_mode_gpu()\n",
    "#caffe.set_mode_cpu()\n",
    "\n",
    "if model_type == 'bvlc':\n",
    "    model_def = 'models/caffenet_street_en_deploy.prototxt'\n",
    "    \n",
    "elif model_type == 'vgg':\n",
    "    model_def = 'models/dictnet_street_en_deploy.prototxt'\n",
    "    \n",
    "model_weights = 'models/' + model_folder + model_name\n",
    "\n",
    "net = caffe.Net(model_def,      # defines the structure of the model\n",
    "                model_weights,  # contains the trained weights\n",
    "                caffe.TEST)     # use test mode (e.g., don't perform dropout)   "
   ]
  },
  {
   "cell_type": "markdown",
   "metadata": {},
   "source": [
    "## 2-2. Classification\n",
    "\n",
    "* Now we're ready to perform classification."
   ]
  },
  {
   "cell_type": "code",
   "execution_count": 58,
   "metadata": {
    "collapsed": false
   },
   "outputs": [],
   "source": [
    "# create transformer for the input called 'data'\n",
    "transformer = caffe.io.Transformer({'data': net.blobs['data'].data.shape})\n",
    "#print net.blobs['data'].data.shape\n",
    "\n",
    "if model_type == 'bvlc':\n",
    "    mu = np.array([136.0,145.0,154.0])\n",
    "    transformer.set_mean('data', mu) \n",
    "\n",
    "transformer.set_raw_scale('data', 255)\n",
    "transformer.set_transpose('data', (2,0,1))  # move image channels to outermost dimension\n",
    "\n",
    "if model_type == 'bvlc':\n",
    "    net.blobs['data'].reshape(1,        # batch size\n",
    "                              3,         # 3-channel images\n",
    "                              227, 227)  # image size is 227x227\n",
    "elif model_type == 'vgg':\n",
    "    net.blobs['data'].reshape(1,        # batch size\n",
    "                              1,         # 1-channel gray images\n",
    "                              32, 100)  # image size is 32x100"
   ]
  },
  {
   "cell_type": "code",
   "execution_count": 59,
   "metadata": {
    "collapsed": false
   },
   "outputs": [
    {
     "name": "stdout",
     "output_type": "stream",
     "text": [
      "conv1\t(64, 1, 5, 5) (64,)\t1664\n",
      "conv2\t(128, 64, 5, 5) (128,)\t204928\n",
      "conv3\t(256, 128, 3, 3) (256,)\t295168\n",
      "conv3_5\t(512, 256, 3, 3) (512,)\t1180160\n",
      "conv4\t(512, 512, 3, 3) (512,)\t2359808\n",
      "fc1\t(4096, 512, 4, 13) (4096,)\t109056000\n",
      "fc2\t(4096, 4096, 1, 1) (4096,)\t16781312\n",
      "fc_class_finetune\t(28, 4096, 1, 1) (28,)\t114716\n",
      "\n",
      "Total Parameters: 129.993756 millions\n"
     ]
    }
   ],
   "source": [
    "total_param = 0\n",
    "for layer_name, param in net.params.iteritems():\n",
    "    param_num = 1\n",
    "    for i in range(0,len(param[0].data.shape)):\n",
    "        param_num *= param[0].data.shape[i]\n",
    "    param_num += param[1].data.shape[0]\n",
    "    total_param += param_num\n",
    "    print layer_name + '\\t' + str(param[0].data.shape), str(param[1].data.shape) + '\\t' + str(param_num)\n",
    "print '\\nTotal Parameters: ' + str(total_param * 0.000001) + ' millions'"
   ]
  },
  {
   "cell_type": "markdown",
   "metadata": {},
   "source": [
    "* Perform classification"
   ]
  },
  {
   "cell_type": "code",
   "execution_count": 60,
   "metadata": {
    "collapsed": false
   },
   "outputs": [],
   "source": [
    "import copy\n",
    "\n",
    "def classify(net,data,number):\n",
    "    output = []\n",
    "    if number == 0:\n",
    "        length = len(data)\n",
    "    else:\n",
    "        length = number\n",
    "        \n",
    "    for itera in range(0,length):\n",
    "        \n",
    "        #set image path\n",
    "        img_path = data[itera].image_path\n",
    "        \n",
    "        # import original image and cropped image for prediction\n",
    "        if model_type == 'bvlc':\n",
    "            image = caffe.io.load_image(img_path)\n",
    "        elif model_type == 'vgg':    \n",
    "            image = caffe.io.load_image(img_path,False)\n",
    "            \n",
    "        # do preprocession\n",
    "        transformed_image = transformer.preprocess('data', image)\n",
    "        \n",
    "        # do mean substraction\n",
    "        #transformed_image -= np.mean(transformed_image)\n",
    "        \n",
    "        # copy the image data into the memory allocated for the net\n",
    "        net.blobs['data'].data[...] = transformed_image\n",
    "    \n",
    "        # perform classification\n",
    "        out = copy.deepcopy(net.forward())\n",
    "        output.append(out)\n",
    "    \n",
    "    return output"
   ]
  },
  {
   "cell_type": "code",
   "execution_count": 61,
   "metadata": {
    "collapsed": false
   },
   "outputs": [
    {
     "name": "stdout",
     "output_type": "stream",
     "text": [
      "classifying...... done\n"
     ]
    }
   ],
   "source": [
    "print \"classifying......\",\n",
    "output = classify(net,dataList,0)\n",
    "print \"done\"\n",
    "#print output[10]['prob'][0].argmax()"
   ]
  },
  {
   "cell_type": "markdown",
   "metadata": {},
   "source": [
    "## 2-3 Accuracy checking"
   ]
  },
  {
   "cell_type": "markdown",
   "metadata": {},
   "source": [
    "* Load ImageNet labels"
   ]
  },
  {
   "cell_type": "code",
   "execution_count": 62,
   "metadata": {
    "collapsed": false
   },
   "outputs": [],
   "source": [
    "labels_file = './street_en_labels.txt'\n",
    "\n",
    "if not os.path.exists(labels_file):\n",
    "    print 'label file does not exist'\n",
    "\n",
    "labels = np.loadtxt(labels_file, str, delimiter='\\t')\n",
    "#print labels"
   ]
  },
  {
   "cell_type": "markdown",
   "metadata": {},
   "source": [
    "* Hit definition: label of max probability in all class same as groundtruth"
   ]
  },
  {
   "cell_type": "code",
   "execution_count": 63,
   "metadata": {
    "collapsed": false
   },
   "outputs": [],
   "source": [
    "import itertools\n",
    "import heapq\n",
    "def pred(out,data,number):\n",
    "    lex_hit = 0\n",
    "    lex_non_hit = 0\n",
    "    non_hit_case = []\n",
    "    \n",
    "    for output,datalist in itertools.izip(out,data):    \n",
    "        output_prob = output['prob'][0]  # the output probability vector for the first image in the batch\n",
    "\n",
    "        if number == datalist.image_number:           \n",
    "            image_number = datalist.image_number\n",
    "            largest_class = heapq.nlargest(3, xrange(len(output_prob)), key=output_prob.__getitem__)\n",
    "            largest_prob = heapq.nlargest(3, output_prob)\n",
    "            ground_truth = datalist.gt.lower()\n",
    "            image = caffe.io.load_image(datalist.image_path)\n",
    "\n",
    "        if labels[output_prob.argmax()] == datalist.gt.lower():\n",
    "            lex_hit += 1\n",
    "        else:\n",
    "            lex_non_hit +=1\n",
    "            non_hit_case.append(datalist.image_number)\n",
    "    \n",
    "    print 'model_name:',model_folder\n",
    "    print 'data_name:',test_folder,'\\n'\n",
    "    \n",
    "    print 'hit:',lex_hit,' not hit:',lex_non_hit\n",
    "    accuracy = lex_hit / float(lex_hit + lex_non_hit)\n",
    "    print 'accuracy: ', accuracy\n",
    "    print 'non_hit_case: ', non_hit_case\n",
    "    \n",
    "    print '\\nimage number:',image_number\n",
    "    print '1st predicted class is:', labels[largest_class[0]]\n",
    "    print '    predicted prob is:', largest_prob[0]\n",
    "    print '2nd predicted class is:', labels[largest_class[1]]\n",
    "    print '    predicted prob is:', largest_prob[1]\n",
    "    print '3rd predicted class is:', labels[largest_class[2]]\n",
    "    print '    predicted prob is:', largest_prob[2]   \n",
    "    print 'ground truth:', ground_truth\n",
    "    plt.imshow(image)"
   ]
  },
  {
   "cell_type": "code",
   "execution_count": 64,
   "metadata": {
    "collapsed": false,
    "scrolled": true
   },
   "outputs": [
    {
     "name": "stdout",
     "output_type": "stream",
     "text": [
      "model_name: DICTNET-STREET-EN-HARVEST/\n",
      "data_name: STREET-EN-RATIO-100/ \n",
      "\n",
      "hit: 5020  not hit: 107\n",
      "accuracy:  0.979130095572\n",
      "non_hit_case:  [24, 106, 126, 156, 191, 234, 263, 278, 291, 310, 358, 360, 429, 435, 472, 501, 519, 546, 591, 613, 619, 664, 805, 808, 811, 954, 998, 1076, 1177, 1191, 1214, 1220, 1234, 1441, 1527, 1618, 1619, 1631, 1677, 1802, 1864, 1922, 1967, 1972, 2203, 2326, 2374, 2382, 2401, 2426, 2439, 2442, 2447, 2457, 2494, 2541, 2696, 2727, 2747, 2814, 2899, 2921, 2922, 2933, 2991, 2995, 3166, 3216, 3249, 3405, 3444, 3457, 3528, 3540, 3642, 3679, 3680, 3729, 3772, 3851, 3894, 3910, 3926, 3956, 4004, 4108, 4110, 4121, 4167, 4262, 4312, 4390, 4399, 4441, 4511, 4545, 4605, 4645, 4651, 4661, 4767, 4862, 4917, 5086, 5089, 5097, 5100]\n",
      "\n",
      "image number: 100\n",
      "1st predicted class is: herr\n",
      "    predicted prob is: [[ 1.]]\n",
      "2nd predicted class is: reif\n",
      "    predicted prob is: [[  3.86321960e-16]]\n",
      "3rd predicted class is: peraire\n",
      "    predicted prob is: [[  4.04932579e-18]]\n",
      "ground truth: herr\n"
     ]
    },
    {
     "data": {
      "image/png": "[encoded data removed]",
      "text/plain": [
       "<matplotlib.figure.Figure at 0x7fdd48790ad0>"
      ]
     },
     "metadata": {},
     "output_type": "display_data"
    }
   ],
   "source": [
    "pred(output,dataList,100)"
   ]
  },
  {
   "cell_type": "code",
   "execution_count": null,
   "metadata": {
    "collapsed": true
   },
   "outputs": [],
   "source": []
  }
 ],
 "metadata": {
  "anaconda-cloud": {},
  "description": "Instant recognition with a pre-trained model and a tour of the net interface for visualizing features and parameters layer-by-layer.",
  "example_name": "Image Classification and Filter Visualization",
  "include_in_docs": true,
  "kernelspec": {
   "display_name": "Python [Root]",
   "language": "python",
   "name": "Python [Root]"
  },
  "language_info": {
   "codemirror_mode": {
    "name": "ipython",
    "version": 2
   },
   "file_extension": ".py",
   "mimetype": "text/x-python",
   "name": "python",
   "nbconvert_exporter": "python",
   "pygments_lexer": "ipython2",
   "version": "2.7.12"
  },
  "priority": 1
 },
 "nbformat": 4,
 "nbformat_minor": 0
}

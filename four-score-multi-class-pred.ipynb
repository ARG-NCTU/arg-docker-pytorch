{
 "cells": [
  {
   "cell_type": "markdown",
   "metadata": {},
   "source": [
    "# Four Score Multi-class Prediction"
   ]
  },
  {
   "cell_type": "markdown",
   "metadata": {},
   "source": [
    "# 1. Get Ready for four_score test dataset"
   ]
  },
  {
   "cell_type": "markdown",
   "metadata": {},
   "source": [
    "## 1-1. Define Lexicon class"
   ]
  },
  {
   "cell_type": "code",
   "execution_count": 1,
   "metadata": {
    "collapsed": false
   },
   "outputs": [],
   "source": [
    "class Lexicon:\n",
    "    def __init__(self,imageName,lex,num):\n",
    "        self.imageName = imageName\n",
    "        self.lex = lex \n",
    "        self.gt = lex[num]       \n",
    "        \n",
    "    def set_image_number(self,number):\n",
    "        self.image_number = number\n",
    "    \n",
    "    def set_image_path(self,path):\n",
    "        self.image_path = path"
   ]
  },
  {
   "cell_type": "code",
   "execution_count": 2,
   "metadata": {
    "collapsed": false
   },
   "outputs": [
    {
     "name": "stdout",
     "output_type": "stream",
     "text": [
      "['four' 'score' 'and' 'seven' 'years' 'ago' 'our' 'fathers' 'brought'\n",
      " 'forth' 'this' 'continent' 'new' 'nation' 'conceived' 'liberty'\n",
      " 'dedicated' 'the' 'proposition' 'that' 'all' 'men' 'are' 'created' 'equal']\n"
     ]
    }
   ],
   "source": [
    "import numpy as np\n",
    "\n",
    "lex_file = './fourscore_labels.txt'\n",
    "lex = np.loadtxt(lex_file, str, delimiter='\\t')\n",
    "\n",
    "print lex"
   ]
  },
  {
   "cell_type": "markdown",
   "metadata": {},
   "source": [
    "## 1-2. Choose one testing dataset"
   ]
  },
  {
   "cell_type": "markdown",
   "metadata": {},
   "source": [
    "* Read 'FS-R-TEST' image data"
   ]
  },
  {
   "cell_type": "code",
   "execution_count": 98,
   "metadata": {
    "collapsed": false
   },
   "outputs": [
    {
     "name": "stdout",
     "output_type": "stream",
     "text": [
      "3750 images read\n"
     ]
    }
   ],
   "source": [
    "import os\n",
    "\n",
    "data_name = 'FS-R-TEST'\n",
    "path = 'testsets/FS-R-TEST/'\n",
    "\n",
    "if os.path.exists(path):\n",
    "    dataList = []\n",
    "    number = 0\n",
    "    image_number = 0\n",
    "\n",
    "    for itera in lex:\n",
    "        img_path = path + itera\n",
    "        for root, dirs, files in os.walk(img_path):        \n",
    "            for f in files:\n",
    "                imageName = itera + '/' + f\n",
    "                imageInfo = Lexicon(imageName,lex,number)\n",
    "                imageInfo.set_image_number(image_number)\n",
    "                image_number += 1\n",
    "                dataList.append(imageInfo)\n",
    "        number += 1\n",
    "\n",
    "    print len(dataList),\"images read\"\n",
    "#     for itera in dataList:\n",
    "#         print itera.imageName\n",
    "\n",
    "else:\n",
    "    print 'data not found'"
   ]
  },
  {
   "cell_type": "markdown",
   "metadata": {},
   "source": [
    "* Read 'FS-DUCK' image data"
   ]
  },
  {
   "cell_type": "code",
   "execution_count": 104,
   "metadata": {
    "collapsed": false
   },
   "outputs": [
    {
     "name": "stdout",
     "output_type": "stream",
     "text": [
      "809 images read\n"
     ]
    }
   ],
   "source": [
    "import os\n",
    "\n",
    "data_name = 'FS-DUCK'\n",
    "path = 'testsets/FS-DUCK/'\n",
    "\n",
    "if os.path.exists(path):\n",
    "    dataList = []\n",
    "    number = 0\n",
    "    image_number = 0\n",
    "\n",
    "    for itera in lex:\n",
    "        img_path = path + str(number) + '_' + itera.upper()\n",
    "        for root, dirs, files in os.walk(img_path):        \n",
    "            for f in files:\n",
    "                imageName = str(number) + '_' + itera.upper() + '/' + f\n",
    "                imageInfo = Lexicon(imageName,lex,number)\n",
    "                imageInfo.set_image_number(image_number)\n",
    "\n",
    "                image_number += 1\n",
    "                dataList.append(imageInfo)\n",
    "        number += 1\n",
    "\n",
    "    print len(dataList),\"images read\"\n",
    "#     for itera in dataList:\n",
    "#         print itera.imageName\n",
    "\n",
    "else:\n",
    "    print 'data not found'"
   ]
  },
  {
   "cell_type": "markdown",
   "metadata": {},
   "source": [
    "* Read 'FS-STATA' image data"
   ]
  },
  {
   "cell_type": "code",
   "execution_count": 107,
   "metadata": {
    "collapsed": false
   },
   "outputs": [
    {
     "name": "stdout",
     "output_type": "stream",
     "text": [
      "238 images read\n"
     ]
    }
   ],
   "source": [
    "import os\n",
    "\n",
    "data_name = 'FS-STATA'\n",
    "file_path = 'testsets/FS-STATA/'\n",
    "path = file_path + \"images/\"\n",
    "if os.path.exists(path):\n",
    "    dataList = []\n",
    "    image_number = 0  \n",
    "    fpath = np.loadtxt(file_path + \"test.txt\",str)\n",
    "    \n",
    "    for itera in fpath:\n",
    "        imageName = itera[0]\n",
    "        imageInfo = Lexicon(imageName,lex,int(itera[1]))\n",
    "        imageInfo.set_image_number(image_number)\n",
    "        image_number += 1      \n",
    "        dataList.append(imageInfo)\n",
    "        \n",
    "    print len(dataList),\"images read\"\n",
    "#     for itera in dataList:\n",
    "#         print itera.imageName\n",
    "\n",
    "else:\n",
    "    print 'data not found'"
   ]
  },
  {
   "cell_type": "markdown",
   "metadata": {},
   "source": [
    "# 2. Testing Four Score Dictnet "
   ]
  },
  {
   "cell_type": "markdown",
   "metadata": {},
   "source": [
    "## 2-1. Get Ready for DICTNET Models"
   ]
  },
  {
   "cell_type": "markdown",
   "metadata": {},
   "source": [
    "* First, set up Python, `numpy`, and `matplotlib`."
   ]
  },
  {
   "cell_type": "code",
   "execution_count": 4,
   "metadata": {
    "collapsed": false
   },
   "outputs": [],
   "source": [
    "# set up Python environment: numpy for numerical routines, and matplotlib for plotting\n",
    "import numpy as np\n",
    "import matplotlib.pyplot as plt\n",
    "import time\n",
    "# display plots in this notebook\n",
    "%matplotlib inline\n",
    "\n",
    "# set display defaults\n",
    "plt.rcParams['figure.figsize'] = (10, 10)        # large images\n",
    "plt.rcParams['image.interpolation'] = 'nearest'  # don't interpolate: show square pixels\n",
    "plt.rcParams['image.cmap'] = 'gray'  # use grayscale output rather than a (potentially misleading) color heatmap"
   ]
  },
  {
   "cell_type": "markdown",
   "metadata": {},
   "source": [
    "* Load `caffe`."
   ]
  },
  {
   "cell_type": "code",
   "execution_count": 5,
   "metadata": {
    "collapsed": false
   },
   "outputs": [],
   "source": [
    "# The caffe module needs to be on the Python path;\n",
    "#  we'll add it here explicitly.\n",
    "import sys\n",
    "caffe_root = '../../caffe/'  # this file should be run from {caffe_root}/examples (otherwise change this line)\n",
    "sys.path.insert(0, caffe_root + 'python')\n",
    "\n",
    "import caffe\n",
    "# If you get \"No module named _caffe\", either you have not built pycaffe or you have the wrong path."
   ]
  },
  {
   "cell_type": "markdown",
   "metadata": {},
   "source": [
    "* Load net and set up input preprocessing\n",
    "\n",
    "* Set Caffe to CPU or GPU mode and load the net from disk."
   ]
  },
  {
   "cell_type": "code",
   "execution_count": 60,
   "metadata": {
    "collapsed": false
   },
   "outputs": [],
   "source": [
    "caffe.set_device(0)  # if we have multiple GPUs, pick the first one\n",
    "caffe.set_mode_gpu()\n",
    "#caffe.set_mode_cpu()\n",
    "\n",
    "model_def = 'models/dictnet_fourscore_deploy.prototxt'\n",
    "\n",
    "# CHOOSE one dictnet model\n",
    "#model_weights = 'models/FS-DICTNET-VGG/dictnet_vgg_mtoc_s.caffemodel'    #FS-DICTNET-VGG\n",
    "#model_weights = 'models/FS-DICTNET-REND/_iter_10000.caffemodel'    #FS-DICTNET-REND\n",
    "#model_weights = 'models/FS-DICTNET-HARV/_iter_10000.caffemodel'    #FS-DICTNET-HARV\n",
    "model_weights = 'models/FS-DICTNET-R+H/_iter_10000.caffemodel'    #FS-DICTNET-R+H\n",
    "\n",
    "model_name = model_weights.split(\"/\")[-2]\n",
    "\n",
    "net = caffe.Net(model_def,      # defines the structure of the model\n",
    "                model_weights,  # contains the trained weights\n",
    "                caffe.TEST)     # use test mode (e.g., don't perform dropout)   "
   ]
  },
  {
   "cell_type": "markdown",
   "metadata": {},
   "source": [
    "## 2-2. Classification\n",
    "\n",
    "* Now we're ready to perform classification."
   ]
  },
  {
   "cell_type": "code",
   "execution_count": 36,
   "metadata": {
    "collapsed": false
   },
   "outputs": [],
   "source": [
    "# create transformer for the input called 'data'\n",
    "transformer = caffe.io.Transformer({'data': net.blobs['data'].data.shape})\n",
    "#print net.blobs['data'].data.shape\n",
    "\n",
    "transformer.set_raw_scale('data', 255)\n",
    "transformer.set_transpose('data', (2,0,1))  # move image channels to outermost dimension\n",
    "\n",
    "net.blobs['data'].reshape(1,        # batch size\n",
    "                          1,         # 1-channel gray images\n",
    "                          32, 100)  # image size is 32x100"
   ]
  },
  {
   "cell_type": "code",
   "execution_count": 37,
   "metadata": {
    "collapsed": false
   },
   "outputs": [
    {
     "name": "stdout",
     "output_type": "stream",
     "text": [
      "conv1\t(64, 1, 5, 5) (64,)\t1664\n",
      "conv2\t(128, 64, 5, 5) (128,)\t204928\n",
      "conv3\t(256, 128, 3, 3) (256,)\t295168\n",
      "conv3_5\t(512, 256, 3, 3) (512,)\t1180160\n",
      "conv4\t(512, 512, 3, 3) (512,)\t2359808\n",
      "fc1\t(4096, 512, 4, 13) (4096,)\t109056000\n",
      "fc2\t(4096, 4096, 1, 1) (4096,)\t16781312\n",
      "fc_class\t(25, 4096, 1, 1) (25,)\t102425\n",
      "\n",
      "Total Parameters: 129.981465 millions\n"
     ]
    }
   ],
   "source": [
    "total_param = 0\n",
    "for layer_name, param in net.params.iteritems():\n",
    "    param_num = 1\n",
    "    for i in range(0,len(param[0].data.shape)):\n",
    "        param_num *= param[0].data.shape[i]\n",
    "    param_num += param[1].data.shape[0]\n",
    "    total_param += param_num\n",
    "    print layer_name + '\\t' + str(param[0].data.shape), str(param[1].data.shape) + '\\t' + str(param_num)\n",
    "print '\\nTotal Parameters: ' + str(total_param * 0.000001) + ' millions'"
   ]
  },
  {
   "cell_type": "markdown",
   "metadata": {},
   "source": [
    "* Perform classification"
   ]
  },
  {
   "cell_type": "code",
   "execution_count": 38,
   "metadata": {
    "collapsed": false
   },
   "outputs": [],
   "source": [
    "import copy\n",
    "\n",
    "def classify(net,data,number):\n",
    "    output = []\n",
    "    if number == 0:\n",
    "        length = len(data)\n",
    "    else:\n",
    "        length = number\n",
    "        \n",
    "    for itera in range(0,length):\n",
    "        \n",
    "        #set image path\n",
    "        img_path = path + data[itera].imageName\n",
    "        data[itera].set_image_path(img_path)\n",
    "        \n",
    "        # import original image and cropped image for prediction\n",
    "        image = caffe.io.load_image(img_path,False)\n",
    "        \n",
    "        # do preprocession\n",
    "        transformed_image = transformer.preprocess('data', image)\n",
    "        \n",
    "        # do mean substraction\n",
    "        #transformed_image -= np.mean(transformed_image)\n",
    "        \n",
    "        # copy the image data into the memory allocated for the net\n",
    "        net.blobs['data'].data[...] = transformed_image\n",
    "    \n",
    "        # perform classification\n",
    "        out = copy.deepcopy(net.forward())\n",
    "        output.append(out)\n",
    "    \n",
    "    return output"
   ]
  },
  {
   "cell_type": "code",
   "execution_count": 67,
   "metadata": {
    "collapsed": false
   },
   "outputs": [
    {
     "name": "stdout",
     "output_type": "stream",
     "text": [
      "classifying...... done\n"
     ]
    }
   ],
   "source": [
    "print \"classifying......\",\n",
    "output = classify(net,dataList,0)\n",
    "print \"done\"\n",
    "#print output[10]['prob'][0].argmax()"
   ]
  },
  {
   "cell_type": "markdown",
   "metadata": {},
   "source": [
    "* Load ImageNet labels"
   ]
  },
  {
   "cell_type": "code",
   "execution_count": 4,
   "metadata": {
    "collapsed": false
   },
   "outputs": [],
   "source": [
    "labels_file = './fourscore_labels.txt'\n",
    "\n",
    "if not os.path.exists(labels_file):\n",
    "    print 'label file does not exist'\n",
    "\n",
    "labels = np.loadtxt(labels_file, str, delimiter='\\t')\n",
    "#print labels"
   ]
  },
  {
   "cell_type": "markdown",
   "metadata": {},
   "source": [
    "* Hit definition: label of max probability in all class same as groundtruth"
   ]
  },
  {
   "cell_type": "code",
   "execution_count": 42,
   "metadata": {
    "collapsed": false
   },
   "outputs": [],
   "source": [
    "import itertools\n",
    "import heapq\n",
    "def pred(out,data,number):\n",
    "    lex_hit = 0\n",
    "    lex_non_hit = 0\n",
    "    non_hit_case = []\n",
    "    \n",
    "    for output,datalist in itertools.izip(out,data):    \n",
    "        output_prob = output['prob'][0]  # the output probability vector for the first image in the batch\n",
    "\n",
    "        if number == datalist.image_number:           \n",
    "            image_number = datalist.image_number\n",
    "            largest_class = heapq.nlargest(3, xrange(len(output_prob)), key=output_prob.__getitem__)\n",
    "            largest_prob = heapq.nlargest(3, output_prob)\n",
    "            ground_truth = datalist.gt.lower()\n",
    "            image = caffe.io.load_image(datalist.image_path)\n",
    "\n",
    "        if labels[output_prob.argmax()] == datalist.gt.lower():\n",
    "            lex_hit += 1\n",
    "        else:\n",
    "            lex_non_hit +=1\n",
    "            non_hit_case.append(datalist.image_number)\n",
    "    \n",
    "    print 'model_name:',model_name\n",
    "    print 'data_name:',data_name,'\\n'\n",
    "    \n",
    "    print 'hit:',lex_hit,' not hit:',lex_non_hit\n",
    "    accuracy = lex_hit / float(lex_hit + lex_non_hit)\n",
    "    print 'accuracy: ', accuracy\n",
    "    print 'non_hit_case: ', non_hit_case\n",
    "    \n",
    "    print '\\nimage number:',image_number\n",
    "    print '1st predicted class is:', labels[largest_class[0]]\n",
    "    print '    predicted prob is:', largest_prob[0][0][0]\n",
    "    print '2nd predicted class is:', labels[largest_class[1]]\n",
    "    print '    predicted prob is:', largest_prob[1][0][0]\n",
    "    print '3rd predicted class is:', labels[largest_class[2]]\n",
    "    print '    predicted prob is:', largest_prob[2][0][0]\n",
    "    print 'ground truth:', ground_truth\n",
    "    plt.imshow(image)"
   ]
  },
  {
   "cell_type": "code",
   "execution_count": 68,
   "metadata": {
    "collapsed": false,
    "scrolled": true
   },
   "outputs": [
    {
     "name": "stdout",
     "output_type": "stream",
     "text": [
      "model_name: FS-DICTNET-R+H\n",
      "data_name: FS-R-TEST \n",
      "\n",
      "hit: 3728  not hit: 22\n",
      "accuracy:  0.994133333333\n",
      "non_hit_case:  [77, 178, 212, 264, 1400, 1408, 1442, 1515, 1539, 1803, 1817, 2145, 2230, 2571, 2880, 2881, 3008, 3233, 3265, 3297, 3371, 3483]\n",
      "\n",
      "image number: 0\n",
      "1st predicted class is: four\n",
      "    predicted prob is: 1.0\n",
      "2nd predicted class is: our\n",
      "    predicted prob is: 1.52617e-07\n",
      "3rd predicted class is: brought\n",
      "    predicted prob is: 1.46727e-08\n",
      "ground truth: four\n"
     ]
    },
    {
     "data": {
      "image/png": "[encoded data removed]",
      "text/plain": [
       "<matplotlib.figure.Figure at 0x7f7f42da68d0>"
      ]
     },
     "metadata": {},
     "output_type": "display_data"
    }
   ],
   "source": [
    "pred(output,dataList,0)"
   ]
  },
  {
   "cell_type": "markdown",
   "metadata": {
    "collapsed": true
   },
   "source": [
    "# 3. Testing Four Score CAFFENET "
   ]
  },
  {
   "cell_type": "markdown",
   "metadata": {},
   "source": [
    "## 3-1. Get Ready for CAFFENET Models"
   ]
  },
  {
   "cell_type": "markdown",
   "metadata": {},
   "source": [
    "* First, set up Python, `numpy`, and `matplotlib`."
   ]
  },
  {
   "cell_type": "code",
   "execution_count": 69,
   "metadata": {
    "collapsed": false
   },
   "outputs": [],
   "source": [
    "# set up Python environment: numpy for numerical routines, and matplotlib for plotting\n",
    "import numpy as np\n",
    "import matplotlib.pyplot as plt\n",
    "import time\n",
    "# display plots in this notebook\n",
    "%matplotlib inline\n",
    "\n",
    "# set display defaults\n",
    "plt.rcParams['figure.figsize'] = (10, 10)        # large images\n",
    "plt.rcParams['image.interpolation'] = 'nearest'  # don't interpolate: show square pixels\n",
    "plt.rcParams['image.cmap'] = 'gray'  # use grayscale output rather than a (potentially misleading) color heatmap"
   ]
  },
  {
   "cell_type": "markdown",
   "metadata": {},
   "source": [
    "* Load `caffe`."
   ]
  },
  {
   "cell_type": "code",
   "execution_count": 70,
   "metadata": {
    "collapsed": false
   },
   "outputs": [],
   "source": [
    "# The caffe module needs to be on the Python path;\n",
    "#  we'll add it here explicitly.\n",
    "import sys\n",
    "caffe_root = '../../caffe/'  # this file should be run from {caffe_root}/examples (otherwise change this line)\n",
    "sys.path.insert(0, caffe_root + 'python')\n",
    "\n",
    "import caffe\n",
    "# If you get \"No module named _caffe\", either you have not built pycaffe or you have the wrong path."
   ]
  },
  {
   "cell_type": "markdown",
   "metadata": {},
   "source": [
    "* Load net and set up input preprocessing\n",
    "\n",
    "* Set Caffe to CPU or GPU mode and load the net from disk."
   ]
  },
  {
   "cell_type": "code",
   "execution_count": 101,
   "metadata": {
    "collapsed": false
   },
   "outputs": [],
   "source": [
    "caffe.set_device(0)  # if we have multiple GPUs, pick the first one\n",
    "caffe.set_mode_gpu()\n",
    "#caffe.set_mode_cpu()\n",
    "\n",
    "model_def = 'models/caffenet_fourscore_deploy.prototxt'\n",
    "\n",
    "# CHOOSE one dictnet model\n",
    "#model_weights = 'models/FS-CAFFENET-REND/_iter_10000.caffemodel'    #FS-CAFFENET-REND\n",
    "#model_weights = 'models/FS-CAFFENET-HARV/_iter_10000.caffemodel'    #FS-CAFFENET-HARV\n",
    "model_weights = 'models/FS-CAFFENET-R+H/_iter_10000.caffemodel'    #FS-CAFFENET-R+H\n",
    "\n",
    "model_name = model_weights.split(\"/\")[-2]\n",
    "\n",
    "net = caffe.Net(model_def,      # defines the structure of the model\n",
    "                model_weights,  # contains the trained weights\n",
    "                caffe.TEST)     # use test mode (e.g., don't perform dropout)   "
   ]
  },
  {
   "cell_type": "markdown",
   "metadata": {},
   "source": [
    "## 3-2. Classification\n",
    "\n",
    "* Now we're ready to perform classification."
   ]
  },
  {
   "cell_type": "code",
   "execution_count": 91,
   "metadata": {
    "collapsed": false
   },
   "outputs": [],
   "source": [
    "# create transformer for the input called 'data'\n",
    "transformer = caffe.io.Transformer({'data': net.blobs['data'].data.shape})\n",
    "#print net.blobs['data'].data.shape\n",
    "\n",
    "mu = np.array([136.0,145.0,154.0])\n",
    "transformer.set_mean('data', mu) \n",
    "\n",
    "transformer.set_raw_scale('data', 255)\n",
    "transformer.set_transpose('data', (2,0,1))  # move image channels to outermost dimension\n",
    "\n",
    "net.blobs['data'].reshape(1,        # batch size\n",
    "                          3,         # 3-channel images\n",
    "                          227, 227)  # image size is 227x227\n",
    "    "
   ]
  },
  {
   "cell_type": "code",
   "execution_count": 92,
   "metadata": {
    "collapsed": false,
    "scrolled": true
   },
   "outputs": [
    {
     "name": "stdout",
     "output_type": "stream",
     "text": [
      "conv1\t(96, 3, 11, 11) (96,)\t34944\n",
      "conv2\t(256, 48, 5, 5) (256,)\t307456\n",
      "conv3\t(384, 256, 3, 3) (384,)\t885120\n",
      "conv4\t(384, 192, 3, 3) (384,)\t663936\n",
      "conv5\t(256, 192, 3, 3) (256,)\t442624\n",
      "fc6\t(4096, 9216) (4096,)\t37752832\n",
      "fc7\t(4096, 4096) (4096,)\t16781312\n",
      "fc8finetune\t(25, 4096) (25,)\t102425\n",
      "\n",
      "Total Parameters: 56.970649 millions\n"
     ]
    }
   ],
   "source": [
    "total_param = 0\n",
    "for layer_name, param in net.params.iteritems():\n",
    "    param_num = 1\n",
    "    for i in range(0,len(param[0].data.shape)):\n",
    "        param_num *= param[0].data.shape[i]\n",
    "    param_num += param[1].data.shape[0]\n",
    "    total_param += param_num\n",
    "    print layer_name + '\\t' + str(param[0].data.shape), str(param[1].data.shape) + '\\t' + str(param_num)\n",
    "print '\\nTotal Parameters: ' + str(total_param * 0.000001) + ' millions'"
   ]
  },
  {
   "cell_type": "markdown",
   "metadata": {},
   "source": [
    "* Perform classification"
   ]
  },
  {
   "cell_type": "code",
   "execution_count": 82,
   "metadata": {
    "collapsed": false
   },
   "outputs": [],
   "source": [
    "import copy\n",
    "\n",
    "def classify(net,data,number):\n",
    "    output = []\n",
    "    if number == 0:\n",
    "        length = len(data)\n",
    "    else:\n",
    "        length = number\n",
    "        \n",
    "    for itera in range(0,length):\n",
    "        \n",
    "        #set image path\n",
    "        img_path = path + data[itera].imageName\n",
    "        \n",
    "        # import original image and cropped image for prediction\n",
    "        image = caffe.io.load_image(img_path)\n",
    "        data[itera].set_image_path(img_path)\n",
    "        \n",
    "        # do preprocession\n",
    "        transformed_image = transformer.preprocess('data', image)\n",
    "        \n",
    "        # do mean substraction\n",
    "        #transformed_image -= np.mean(transformed_image)\n",
    "        \n",
    "        # copy the image data into the memory allocated for the net\n",
    "        net.blobs['data'].data[...] = transformed_image\n",
    "    \n",
    "        # perform classification\n",
    "        out = copy.deepcopy(net.forward())\n",
    "        output.append(out)\n",
    "    \n",
    "    return output"
   ]
  },
  {
   "cell_type": "code",
   "execution_count": 108,
   "metadata": {
    "collapsed": false
   },
   "outputs": [
    {
     "name": "stdout",
     "output_type": "stream",
     "text": [
      "classifying...... done\n"
     ]
    }
   ],
   "source": [
    "print \"classifying......\",\n",
    "output = classify(net,dataList,0)\n",
    "print \"done\"\n",
    "#print output[10]['prob'][0].argmax()"
   ]
  },
  {
   "cell_type": "markdown",
   "metadata": {},
   "source": [
    "* Load ImageNet labels"
   ]
  },
  {
   "cell_type": "code",
   "execution_count": 76,
   "metadata": {
    "collapsed": false
   },
   "outputs": [],
   "source": [
    "labels_file = './labels.txt'\n",
    "\n",
    "if not os.path.exists(labels_file):\n",
    "    print 'label file does not exist'\n",
    "\n",
    "labels = np.loadtxt(labels_file, str, delimiter='\\t')\n",
    "#print labels"
   ]
  },
  {
   "cell_type": "markdown",
   "metadata": {},
   "source": [
    "* Hit definition: label of max probability in all class same as groundtruth"
   ]
  },
  {
   "cell_type": "code",
   "execution_count": 85,
   "metadata": {
    "collapsed": false
   },
   "outputs": [],
   "source": [
    "import itertools\n",
    "import heapq\n",
    "def pred(out,data,number):\n",
    "    lex_hit = 0\n",
    "    lex_non_hit = 0\n",
    "    non_hit_case = []\n",
    "    \n",
    "    for output,datalist in itertools.izip(out,data):    \n",
    "        output_prob = output['prob'][0]  # the output probability vector for the first image in the batch\n",
    "\n",
    "        if number == datalist.image_number:           \n",
    "            image_number = datalist.image_number\n",
    "            largest_class = heapq.nlargest(3, xrange(len(output_prob)), key=output_prob.__getitem__)\n",
    "            largest_prob = heapq.nlargest(3, output_prob)\n",
    "            ground_truth = datalist.gt.lower()\n",
    "            image = caffe.io.load_image(datalist.image_path)\n",
    "\n",
    "        if labels[output_prob.argmax()] == datalist.gt.lower():\n",
    "            lex_hit += 1\n",
    "        else:\n",
    "            lex_non_hit +=1\n",
    "            non_hit_case.append(datalist.image_number)\n",
    "     \n",
    "    print 'model_name:',model_name\n",
    "    print 'data_name:',data_name,'\\n'\n",
    "    \n",
    "    print 'hit:',lex_hit,' not hit:',lex_non_hit\n",
    "    accuracy = lex_hit / float(lex_hit + lex_non_hit)\n",
    "    print 'accuracy: ', accuracy\n",
    "    print 'non_hit_case: ', non_hit_case\n",
    "    \n",
    "    print '\\nimage number:',image_number\n",
    "    print '1st predicted class is:', labels[largest_class[0]]\n",
    "    print '    predicted prob is:', largest_prob[0]\n",
    "    print '2nd predicted class is:', labels[largest_class[1]]\n",
    "    print '    predicted prob is:', largest_prob[1]\n",
    "    print '3rd predicted class is:', labels[largest_class[2]]\n",
    "    print '    predicted prob is:', largest_prob[2]\n",
    "    print 'ground truth:', ground_truth\n",
    "    plt.imshow(image)"
   ]
  },
  {
   "cell_type": "code",
   "execution_count": 109,
   "metadata": {
    "collapsed": false,
    "scrolled": true
   },
   "outputs": [
    {
     "name": "stdout",
     "output_type": "stream",
     "text": [
      "model_name: FS-CAFFENET-R+H\n",
      "data_name: FS-STATA \n",
      "\n",
      "hit: 153  not hit: 85\n",
      "accuracy:  0.642857142857\n",
      "non_hit_case:  [13, 16, 17, 21, 24, 25, 29, 43, 49, 50, 51, 55, 56, 58, 63, 64, 67, 68, 70, 71, 72, 73, 74, 76, 77, 80, 84, 86, 88, 89, 90, 92, 95, 97, 98, 102, 105, 106, 109, 111, 112, 113, 123, 128, 130, 132, 135, 144, 146, 149, 150, 151, 154, 156, 157, 161, 162, 163, 171, 173, 174, 178, 179, 180, 184, 188, 190, 193, 194, 197, 199, 200, 202, 205, 206, 208, 209, 210, 211, 221, 222, 223, 225, 226, 237]\n",
      "\n",
      "image number: 0\n",
      "1st predicted class is: four\n",
      "    predicted prob is: 0.963327\n",
      "2nd predicted class is: new\n",
      "    predicted prob is: 0.0322213\n",
      "3rd predicted class is: forth\n",
      "    predicted prob is: 0.00401129\n",
      "ground truth: four\n"
     ]
    },
    {
     "data": {
      "image/png": "[encoded data removed]",
      "text/plain": [
       "<matplotlib.figure.Figure at 0x7f7f70324210>"
      ]
     },
     "metadata": {},
     "output_type": "display_data"
    }
   ],
   "source": [
    "pred(output,dataList,0)"
   ]
  },
  {
   "cell_type": "code",
   "execution_count": null,
   "metadata": {
    "collapsed": true
   },
   "outputs": [],
   "source": []
  }
 ],
 "metadata": {
  "anaconda-cloud": {},
  "description": "Instant recognition with a pre-trained model and a tour of the net interface for visualizing features and parameters layer-by-layer.",
  "example_name": "Image Classification and Filter Visualization",
  "include_in_docs": true,
  "kernelspec": {
   "display_name": "Python [Root]",
   "language": "python",
   "name": "Python [Root]"
  },
  "language_info": {
   "codemirror_mode": {
    "name": "ipython",
    "version": 2
   },
   "file_extension": ".py",
   "mimetype": "text/x-python",
   "name": "python",
   "nbconvert_exporter": "python",
   "pygments_lexer": "ipython2",
   "version": "2.7.12"
  },
  "priority": 1
 },
 "nbformat": 4,
 "nbformat_minor": 0
}
